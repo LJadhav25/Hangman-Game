{
  "nbformat": 4,
  "nbformat_minor": 0,
  "metadata": {
    "colab": {
      "provenance": [],
      "authorship_tag": "ABX9TyM/snFUrVU/A/hfPoV3s0FH",
      "include_colab_link": true
    },
    "kernelspec": {
      "name": "python3",
      "display_name": "Python 3"
    },
    "language_info": {
      "name": "python"
    }
  },
  "cells": [
    {
      "cell_type": "markdown",
      "metadata": {
        "id": "view-in-github",
        "colab_type": "text"
      },
      "source": [
        "<a href=\"https://colab.research.google.com/github/LJadhav25/Hangman-Game-/blob/main/Hangman_Game_Project.ipynb\" target=\"_parent\"><img src=\"https://colab.research.google.com/assets/colab-badge.svg\" alt=\"Open In Colab\"/></a>"
      ]
    },
    {
      "cell_type": "code",
      "execution_count": null,
      "metadata": {
        "id": "IlJVmshCJvud"
      },
      "outputs": [],
      "source": [
        "country = ['italy','costarica','algeria','thailand','india','ethiopia','indonasia','syria','yemen','madagascar']\n",
        "animals = ['ape','bulldog','dolphin','hyena','jaguar','Liger','nilgai','python','wolf','zebra',]\n",
        "insects = ['fireflies','bumblebee','ladybug','maggot','dragonfly','butterfly','cricket','caterpillar','termite','spider',]\n",
        "verbs = ['take','want','supply','require','follow','expand','send','investigate','manufacturing','move',]"
      ]
    },
    {
      "cell_type": "code",
      "source": [
        "import random\n",
        "import string\n",
        "\n",
        "mix_word = country+animals+insects+verbs\n",
        "mix_word = random.choice(mix_word)\n",
        "\n",
        "if mix_word in country:\n",
        "  word = 'Country'\n",
        "elif mix_word in animals:\n",
        "  word = 'Animal'\n",
        "elif mix_word in insects:\n",
        "  word = 'Insect'\n",
        "elif mix_word in verbs:\n",
        "  word = 'Verb'\n",
        "\n",
        "\n",
        "def Hangman(secrete,word):\n",
        "  print('Welcome to the Hangman Game!')\n",
        "  print(\"------------------------------------------\")\n",
        "  print('I am thinking of a word that is',len(secrete),'letters long.')\n",
        "  print('The Letter you will be searching is',word,'Name')\n",
        "  print('NOTICE : If you want hint just type hint in Please guess a letter:')\n",
        "  print(\"------------------------------------------\")\n",
        "  count = 0\n",
        "  random_letters = string.ascii_lowercase\n",
        "  letters = list(random_letters)\n",
        "  good_guess = ['_']*len(secrete)\n",
        "  guess_count = 6\n",
        "  while count < guess_count:\n",
        "    print('You have ',guess_count,' guesses left.')\n",
        "    guess = input('Please guess a letter:')\n",
        "    count_hint_in_guess = ['']*20\n",
        "    # if len(list(guess)) > 1:\n",
        "    #   print(\"Enter only one alphabet at a time\")\n",
        "    if guess == 'hint':\n",
        "      count_hint_in_guess.append(guess)\n",
        "      print('hint')\n",
        "      if '_' in good_guess:\n",
        "        get_blank = good_guess.index('_')\n",
        "        good_guess[get_blank] =  secrete[get_blank]\n",
        "        letters.remove(secrete[get_blank])\n",
        "        print('Available letters:',''.join(letters))\n",
        "        print('Given You a Hint:',' '.join(good_guess))\n",
        "    if guess in letters and guess != 'hint':\n",
        "     if guess in secrete:\n",
        "       for i in range(len(secrete)):\n",
        "         if secrete[i] == guess:\n",
        "          good_guess[i] = guess\n",
        "       letters.remove(guess)\n",
        "       print('Available letters:',''.join(letters))\n",
        "       print('Good guess:',' '.join(good_guess))\n",
        "     else:\n",
        "       guess_count -= 1\n",
        "       letters.remove(guess)\n",
        "       print('Available letters:',''.join(letters))\n",
        "       print('Oops! That letter is not in my word:',' '.join(good_guess))\n",
        "    else:\n",
        "      print(\"Choose From Available Alphabet only\")\n",
        "    if guess_count == 0:\n",
        "      print(\"------------------------------------------\")\n",
        "      print('Sorry, you ran out of guesses. The word was.',''.join(secrete))\n",
        "    if '_' not in good_guess:\n",
        "      print(\"------------------------------------------\")\n",
        "      total = guess_count + len(secrete)\n",
        "      print('Congratulations, you won!')\n",
        "      print('Your total score for this game is:',total)\n",
        "      break\n",
        "    print(\"------------------------------------------\")\n",
        "\n",
        "\n",
        "\n",
        "Hangman(mix_word,word)"
      ],
      "metadata": {
        "colab": {
          "base_uri": "https://localhost:8080/"
        },
        "id": "6dN2xO_QKL07",
        "outputId": "0ebd2ec1-a566-4b96-a47b-9252b590c35b"
      },
      "execution_count": null,
      "outputs": [
        {
          "output_type": "stream",
          "name": "stdout",
          "text": [
            "Welcome to the Hangman Game!\n",
            "------------------------------------------\n",
            "I am thinking of a word that is 6 letters long.\n",
            "The Letter you will be searching is Animal Name\n",
            "NOTICE : If you want hint just type hint in Please guess a letter:\n",
            "------------------------------------------\n",
            "You have  6  guesses left.\n",
            "Please guess a letter:a\n",
            "Available letters: bcdefghijklmnopqrstuvwxyz\n",
            "Oops! That letter is not in my word: _ _ _ _ _ _\n",
            "------------------------------------------\n",
            "You have  5  guesses left.\n",
            "Please guess a letter:hint\n",
            "hint\n",
            "Available letters: bcdefghijklmnoqrstuvwxyz\n",
            "Given You a Hint: p _ _ _ _ _\n",
            "Choose From Available Alphabet only\n",
            "------------------------------------------\n",
            "You have  5  guesses left.\n",
            "Please guess a letter:n\n",
            "Available letters: bcdefghijklmoqrstuvwxyz\n",
            "Good guess: p _ _ _ _ n\n",
            "------------------------------------------\n",
            "You have  5  guesses left.\n",
            "Please guess a letter:t\n",
            "Available letters: bcdefghijklmoqrsuvwxyz\n",
            "Good guess: p _ t _ _ n\n",
            "------------------------------------------\n",
            "You have  5  guesses left.\n",
            "Please guess a letter:h\n",
            "Available letters: bcdefgijklmoqrsuvwxyz\n",
            "Good guess: p _ t h _ n\n",
            "------------------------------------------\n",
            "You have  5  guesses left.\n",
            "Please guess a letter:o\n",
            "Available letters: bcdefgijklmqrsuvwxyz\n",
            "Good guess: p _ t h o n\n",
            "------------------------------------------\n",
            "You have  5  guesses left.\n",
            "Please guess a letter:y\n",
            "Available letters: bcdefgijklmqrsuvwxz\n",
            "Good guess: p y t h o n\n",
            "------------------------------------------\n",
            "Congratulations, you won!\n",
            "Your total score for this game is: 11\n"
          ]
        }
      ]
    }
  ]
}